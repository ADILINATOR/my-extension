{
 "cells": [
  {
   "cell_type": "code",
   "execution_count": 1,
   "id": "bca3f3be",
   "metadata": {
    "_cell_guid": "b1076dfc-b9ad-4769-8c92-a6c4dae69d19",
    "_uuid": "8f2839f25d086af736a60e9eeb907d3b93b6e0e5",
    "execution": {
     "iopub.execute_input": "2023-10-12T15:16:19.573358Z",
     "iopub.status.busy": "2023-10-12T15:16:19.573003Z",
     "iopub.status.idle": "2023-10-12T15:16:20.296246Z",
     "shell.execute_reply": "2023-10-12T15:16:20.295307Z"
    },
    "papermill": {
     "duration": 0.730629,
     "end_time": "2023-10-12T15:16:20.298734",
     "exception": false,
     "start_time": "2023-10-12T15:16:19.568105",
     "status": "completed"
    },
    "tags": []
   },
   "outputs": [
    {
     "name": "stdout",
     "output_type": "stream",
     "text": [
      "/home/adl/Downloads/archive/aggression_parsed_dataset.csv\n",
      "/home/adl/Downloads/archive/youtube_parsed_dataset.csv\n",
      "/home/adl/Downloads/archive/twitter_sexism_parsed_dataset.csv\n",
      "/home/adl/Downloads/archive/twitter_racism_parsed_dataset.csv\n",
      "/home/adl/Downloads/archive/toxicity_parsed_dataset.csv\n",
      "/home/adl/Downloads/archive/twitter_parsed_dataset.csv\n",
      "/home/adl/Downloads/archive/kaggle_parsed_dataset.csv\n",
      "/home/adl/Downloads/archive/attack_parsed_dataset.csv\n"
     ]
    }
   ],
   "source": [
    "# This Python 3 environment comes with many helpful analytics libraries installed\n",
    "# It is defined by the kaggle/python Docker image: https://github.com/kaggle/docker-python\n",
    "# For example, here's several helpful packages to load\n",
    "\n",
    "import numpy as np # linear algebra\n",
    "import pandas as pd # data processing, CSV file I/O (e.g. pd.read_csv)\n",
    "\n",
    "# Input data files are available in the read-only \"../input/\" directory\n",
    "# For example, running this (by clicking run or pressing Shift+Enter) will list all files under the input directory\n",
    "\n",
    "import os\n",
    "for dirname, _, filenames in os.walk('/home/adl/Downloads/archive'):\n",
    "    for filename in filenames:\n",
    "        print(os.path.join(dirname, filename))\n",
    "\n",
    "# You can write up to 20GB to the current directory (/kaggle/working/) that gets preserved as output when you create a version using \"Save & Run All\" \n",
    "# You can also write temporary files to /kaggle/temp/, but they won't be saved outside of the current session"
   ]
  },
  {
   "cell_type": "code",
   "execution_count": 2,
   "id": "5634139f",
   "metadata": {
    "execution": {
     "iopub.execute_input": "2023-10-12T15:16:20.305702Z",
     "iopub.status.busy": "2023-10-12T15:16:20.304980Z",
     "iopub.status.idle": "2023-10-12T15:16:20.312426Z",
     "shell.execute_reply": "2023-10-12T15:16:20.311489Z"
    },
    "papermill": {
     "duration": 0.012729,
     "end_time": "2023-10-12T15:16:20.314247",
     "exception": false,
     "start_time": "2023-10-12T15:16:20.301518",
     "status": "completed"
    },
    "tags": []
   },
   "outputs": [
    {
     "data": {
      "text/plain": [
       "['aggression_parsed_dataset.csv',\n",
       " 'youtube_parsed_dataset.csv',\n",
       " 'twitter_sexism_parsed_dataset.csv',\n",
       " 'twitter_racism_parsed_dataset.csv',\n",
       " 'toxicity_parsed_dataset.csv',\n",
       " 'twitter_parsed_dataset.csv',\n",
       " 'kaggle_parsed_dataset.csv',\n",
       " 'attack_parsed_dataset.csv']"
      ]
     },
     "execution_count": 2,
     "metadata": {},
     "output_type": "execute_result"
    }
   ],
   "source": [
    "os.listdir('/home/adl/Downloads/archive')"
   ]
  },
  {
   "cell_type": "code",
   "execution_count": 3,
   "id": "38be2b4f",
   "metadata": {
    "execution": {
     "iopub.execute_input": "2023-10-12T15:16:20.320561Z",
     "iopub.status.busy": "2023-10-12T15:16:20.320285Z",
     "iopub.status.idle": "2023-10-12T15:16:20.446908Z",
     "shell.execute_reply": "2023-10-12T15:16:20.445924Z"
    },
    "papermill": {
     "duration": 0.1323,
     "end_time": "2023-10-12T15:16:20.449151",
     "exception": false,
     "start_time": "2023-10-12T15:16:20.316851",
     "status": "completed"
    },
    "tags": []
   },
   "outputs": [],
   "source": [
    "data = pd.read_csv('/home/adl/Downloads/archive/twitter_racism_parsed_dataset.csv')"
   ]
  },
  {
   "cell_type": "code",
   "execution_count": 4,
   "id": "eddde4c4",
   "metadata": {
    "execution": {
     "iopub.execute_input": "2023-10-12T15:16:20.455971Z",
     "iopub.status.busy": "2023-10-12T15:16:20.455674Z",
     "iopub.status.idle": "2023-10-12T15:16:20.478052Z",
     "shell.execute_reply": "2023-10-12T15:16:20.477032Z"
    },
    "papermill": {
     "duration": 0.027751,
     "end_time": "2023-10-12T15:16:20.479844",
     "exception": false,
     "start_time": "2023-10-12T15:16:20.452093",
     "status": "completed"
    },
    "tags": []
   },
   "outputs": [
    {
     "data": {
      "text/html": [
       "<div>\n",
       "<style scoped>\n",
       "    .dataframe tbody tr th:only-of-type {\n",
       "        vertical-align: middle;\n",
       "    }\n",
       "\n",
       "    .dataframe tbody tr th {\n",
       "        vertical-align: top;\n",
       "    }\n",
       "\n",
       "    .dataframe thead th {\n",
       "        text-align: right;\n",
       "    }\n",
       "</style>\n",
       "<table border=\"1\" class=\"dataframe\">\n",
       "  <thead>\n",
       "    <tr style=\"text-align: right;\">\n",
       "      <th></th>\n",
       "      <th>index</th>\n",
       "      <th>id</th>\n",
       "      <th>Text</th>\n",
       "      <th>Annotation</th>\n",
       "      <th>oh_label</th>\n",
       "    </tr>\n",
       "  </thead>\n",
       "  <tbody>\n",
       "    <tr>\n",
       "      <th>0</th>\n",
       "      <td>5.767493e+17</td>\n",
       "      <td>5.767493e+17</td>\n",
       "      <td>@AAlwuhaib1977 Muslim mob violence against Hin...</td>\n",
       "      <td>racism</td>\n",
       "      <td>1</td>\n",
       "    </tr>\n",
       "    <tr>\n",
       "      <th>1</th>\n",
       "      <td>5.408905e+17</td>\n",
       "      <td>5.408905e+17</td>\n",
       "      <td>@Te4m_NiGhtM4Re http://t.co/5Ih7MkDbQG</td>\n",
       "      <td>none</td>\n",
       "      <td>0</td>\n",
       "    </tr>\n",
       "    <tr>\n",
       "      <th>2</th>\n",
       "      <td>5.678433e+17</td>\n",
       "      <td>5.678433e+17</td>\n",
       "      <td>@jncatron @isra_jourisra @AMPalestine Islamoph...</td>\n",
       "      <td>racism</td>\n",
       "      <td>1</td>\n",
       "    </tr>\n",
       "    <tr>\n",
       "      <th>3</th>\n",
       "      <td>5.766462e+17</td>\n",
       "      <td>5.766462e+17</td>\n",
       "      <td>Finally I'm all caught up, and that sudden dea...</td>\n",
       "      <td>none</td>\n",
       "      <td>0</td>\n",
       "    </tr>\n",
       "    <tr>\n",
       "      <th>4</th>\n",
       "      <td>5.713492e+17</td>\n",
       "      <td>5.713492e+17</td>\n",
       "      <td>@carolinesinders @herecomesfran *hugs*</td>\n",
       "      <td>none</td>\n",
       "      <td>0</td>\n",
       "    </tr>\n",
       "    <tr>\n",
       "      <th>...</th>\n",
       "      <td>...</td>\n",
       "      <td>...</td>\n",
       "      <td>...</td>\n",
       "      <td>...</td>\n",
       "      <td>...</td>\n",
       "    </tr>\n",
       "    <tr>\n",
       "      <th>13466</th>\n",
       "      <td>5.755964e+17</td>\n",
       "      <td>5.755964e+17</td>\n",
       "      <td>#mkr NOOOOO!!! I wanted Kat and Andre to lose!!!</td>\n",
       "      <td>none</td>\n",
       "      <td>0</td>\n",
       "    </tr>\n",
       "    <tr>\n",
       "      <th>13467</th>\n",
       "      <td>5.580631e+17</td>\n",
       "      <td>5.580631e+17</td>\n",
       "      <td>RT @MumtazCeltik: @WhiteHouse @VP \\n\\n#Kobane ...</td>\n",
       "      <td>none</td>\n",
       "      <td>0</td>\n",
       "    </tr>\n",
       "    <tr>\n",
       "      <th>13468</th>\n",
       "      <td>5.755969e+17</td>\n",
       "      <td>5.755969e+17</td>\n",
       "      <td>Glad the proper competition is starting and ev...</td>\n",
       "      <td>none</td>\n",
       "      <td>0</td>\n",
       "    </tr>\n",
       "    <tr>\n",
       "      <th>13469</th>\n",
       "      <td>5.755990e+17</td>\n",
       "      <td>5.755990e+17</td>\n",
       "      <td>No worries Pete and Manu, take all the time of...</td>\n",
       "      <td>none</td>\n",
       "      <td>0</td>\n",
       "    </tr>\n",
       "    <tr>\n",
       "      <th>13470</th>\n",
       "      <td>5.755977e+17</td>\n",
       "      <td>5.755977e+17</td>\n",
       "      <td>@mykitchenrules #mkr please kick off that lady...</td>\n",
       "      <td>none</td>\n",
       "      <td>0</td>\n",
       "    </tr>\n",
       "  </tbody>\n",
       "</table>\n",
       "<p>13471 rows × 5 columns</p>\n",
       "</div>"
      ],
      "text/plain": [
       "              index            id  \\\n",
       "0      5.767493e+17  5.767493e+17   \n",
       "1      5.408905e+17  5.408905e+17   \n",
       "2      5.678433e+17  5.678433e+17   \n",
       "3      5.766462e+17  5.766462e+17   \n",
       "4      5.713492e+17  5.713492e+17   \n",
       "...             ...           ...   \n",
       "13466  5.755964e+17  5.755964e+17   \n",
       "13467  5.580631e+17  5.580631e+17   \n",
       "13468  5.755969e+17  5.755969e+17   \n",
       "13469  5.755990e+17  5.755990e+17   \n",
       "13470  5.755977e+17  5.755977e+17   \n",
       "\n",
       "                                                    Text Annotation  oh_label  \n",
       "0      @AAlwuhaib1977 Muslim mob violence against Hin...     racism         1  \n",
       "1                 @Te4m_NiGhtM4Re http://t.co/5Ih7MkDbQG       none         0  \n",
       "2      @jncatron @isra_jourisra @AMPalestine Islamoph...     racism         1  \n",
       "3      Finally I'm all caught up, and that sudden dea...       none         0  \n",
       "4                 @carolinesinders @herecomesfran *hugs*       none         0  \n",
       "...                                                  ...        ...       ...  \n",
       "13466   #mkr NOOOOO!!! I wanted Kat and Andre to lose!!!       none         0  \n",
       "13467  RT @MumtazCeltik: @WhiteHouse @VP \\n\\n#Kobane ...       none         0  \n",
       "13468  Glad the proper competition is starting and ev...       none         0  \n",
       "13469  No worries Pete and Manu, take all the time of...       none         0  \n",
       "13470  @mykitchenrules #mkr please kick off that lady...       none         0  \n",
       "\n",
       "[13471 rows x 5 columns]"
      ]
     },
     "execution_count": 4,
     "metadata": {},
     "output_type": "execute_result"
    }
   ],
   "source": [
    "data "
   ]
  },
  {
   "cell_type": "code",
   "execution_count": 5,
   "id": "57d23473",
   "metadata": {
    "execution": {
     "iopub.execute_input": "2023-10-12T15:16:20.487486Z",
     "iopub.status.busy": "2023-10-12T15:16:20.486605Z",
     "iopub.status.idle": "2023-10-12T15:16:20.496885Z",
     "shell.execute_reply": "2023-10-12T15:16:20.495826Z"
    },
    "papermill": {
     "duration": 0.016118,
     "end_time": "2023-10-12T15:16:20.498955",
     "exception": false,
     "start_time": "2023-10-12T15:16:20.482837",
     "status": "completed"
    },
    "tags": []
   },
   "outputs": [
    {
     "data": {
      "text/plain": [
       "<bound method DataFrame.info of               index            id  \\\n",
       "0      5.767493e+17  5.767493e+17   \n",
       "1      5.408905e+17  5.408905e+17   \n",
       "2      5.678433e+17  5.678433e+17   \n",
       "3      5.766462e+17  5.766462e+17   \n",
       "4      5.713492e+17  5.713492e+17   \n",
       "...             ...           ...   \n",
       "13466  5.755964e+17  5.755964e+17   \n",
       "13467  5.580631e+17  5.580631e+17   \n",
       "13468  5.755969e+17  5.755969e+17   \n",
       "13469  5.755990e+17  5.755990e+17   \n",
       "13470  5.755977e+17  5.755977e+17   \n",
       "\n",
       "                                                    Text Annotation  oh_label  \n",
       "0      @AAlwuhaib1977 Muslim mob violence against Hin...     racism         1  \n",
       "1                 @Te4m_NiGhtM4Re http://t.co/5Ih7MkDbQG       none         0  \n",
       "2      @jncatron @isra_jourisra @AMPalestine Islamoph...     racism         1  \n",
       "3      Finally I'm all caught up, and that sudden dea...       none         0  \n",
       "4                 @carolinesinders @herecomesfran *hugs*       none         0  \n",
       "...                                                  ...        ...       ...  \n",
       "13466   #mkr NOOOOO!!! I wanted Kat and Andre to lose!!!       none         0  \n",
       "13467  RT @MumtazCeltik: @WhiteHouse @VP \\n\\n#Kobane ...       none         0  \n",
       "13468  Glad the proper competition is starting and ev...       none         0  \n",
       "13469  No worries Pete and Manu, take all the time of...       none         0  \n",
       "13470  @mykitchenrules #mkr please kick off that lady...       none         0  \n",
       "\n",
       "[13471 rows x 5 columns]>"
      ]
     },
     "execution_count": 5,
     "metadata": {},
     "output_type": "execute_result"
    }
   ],
   "source": [
    "data.info"
   ]
  },
  {
   "cell_type": "code",
   "execution_count": null,
   "id": "97b32fe9",
   "metadata": {
    "execution": {
     "iopub.execute_input": "2023-10-12T14:52:38.387288Z",
     "iopub.status.busy": "2023-10-12T14:52:38.386855Z",
     "iopub.status.idle": "2023-10-12T14:52:38.810280Z",
     "shell.execute_reply": "2023-10-12T14:52:38.808880Z",
     "shell.execute_reply.started": "2023-10-12T14:52:38.387255Z"
    },
    "papermill": {
     "duration": 0.003357,
     "end_time": "2023-10-12T15:16:20.505740",
     "exception": false,
     "start_time": "2023-10-12T15:16:20.502383",
     "status": "completed"
    },
    "tags": []
   },
   "outputs": [],
   "source": []
  },
  {
   "cell_type": "code",
   "execution_count": 6,
   "id": "72351831",
   "metadata": {
    "execution": {
     "iopub.execute_input": "2023-10-12T15:16:20.512821Z",
     "iopub.status.busy": "2023-10-12T15:16:20.512568Z",
     "iopub.status.idle": "2023-10-12T15:16:29.909875Z",
     "shell.execute_reply": "2023-10-12T15:16:29.908859Z"
    },
    "papermill": {
     "duration": 9.403344,
     "end_time": "2023-10-12T15:16:29.912117",
     "exception": false,
     "start_time": "2023-10-12T15:16:20.508773",
     "status": "completed"
    },
    "tags": []
   },
   "outputs": [
    {
     "name": "stderr",
     "output_type": "stream",
     "text": [
      "2024-02-21 00:36:42.111462: I external/local_tsl/tsl/cuda/cudart_stub.cc:31] Could not find cuda drivers on your machine, GPU will not be used.\n",
      "2024-02-21 00:36:42.275867: E external/local_xla/xla/stream_executor/cuda/cuda_dnn.cc:9261] Unable to register cuDNN factory: Attempting to register factory for plugin cuDNN when one has already been registered\n",
      "2024-02-21 00:36:42.276090: E external/local_xla/xla/stream_executor/cuda/cuda_fft.cc:607] Unable to register cuFFT factory: Attempting to register factory for plugin cuFFT when one has already been registered\n",
      "2024-02-21 00:36:42.335060: E external/local_xla/xla/stream_executor/cuda/cuda_blas.cc:1515] Unable to register cuBLAS factory: Attempting to register factory for plugin cuBLAS when one has already been registered\n",
      "2024-02-21 00:36:42.440483: I external/local_tsl/tsl/cuda/cudart_stub.cc:31] Could not find cuda drivers on your machine, GPU will not be used.\n",
      "2024-02-21 00:36:42.441267: I tensorflow/core/platform/cpu_feature_guard.cc:182] This TensorFlow binary is optimized to use available CPU instructions in performance-critical operations.\n",
      "To enable the following instructions: AVX2 FMA, in other operations, rebuild TensorFlow with the appropriate compiler flags.\n",
      "2024-02-21 00:36:44.443878: W tensorflow/compiler/tf2tensorrt/utils/py_utils.cc:38] TF-TRT Warning: Could not find TensorRT\n"
     ]
    }
   ],
   "source": [
    "import numpy as np\n",
    "import pandas as pd\n",
    "import tensorflow as tf\n",
    "from tensorflow.keras.models import Model\n",
    "from tensorflow.keras.layers import Input, Embedding, Bidirectional, GRU, Dense, Dropout, concatenate\n",
    "from tensorflow.keras.optimizers import Adam\n",
    "from sklearn.model_selection import train_test_split\n",
    "from sklearn.metrics import confusion_matrix, classification_report\n",
    "import matplotlib.pyplot as plt\n",
    "import seaborn as sns"
   ]
  },
  {
   "cell_type": "code",
   "execution_count": 7,
   "id": "0c766912",
   "metadata": {
    "execution": {
     "iopub.execute_input": "2023-10-12T15:16:29.919833Z",
     "iopub.status.busy": "2023-10-12T15:16:29.919344Z",
     "iopub.status.idle": "2023-10-12T15:16:30.449812Z",
     "shell.execute_reply": "2023-10-12T15:16:30.448801Z"
    },
    "papermill": {
     "duration": 0.536588,
     "end_time": "2023-10-12T15:16:30.451987",
     "exception": false,
     "start_time": "2023-10-12T15:16:29.915399",
     "status": "completed"
    },
    "tags": []
   },
   "outputs": [],
   "source": [
    "# Tokenize the text data\n",
    "tokenizer = tf.keras.preprocessing.text.Tokenizer(num_words=5000, oov_token=\"<OOV>\")\n",
    "tokenizer.fit_on_texts(data['Text'].values)\n",
    "\n",
    "# Convert the text data to sequences\n",
    "X = tokenizer.texts_to_sequences(data['Text'].values)\n",
    "X = tf.keras.preprocessing.sequence.pad_sequences(X, maxlen=500)  # Pad sequences before conversion\n",
    "X = np.array(X)  # Now conversion should work\n",
    "\n",
    "\n",
    "# Pad the sequences\n",
    "X = tf.keras.preprocessing.sequence.pad_sequences(X, maxlen=500)\n",
    "\n",
    "# Encode the labels\n",
    "from sklearn.preprocessing import LabelEncoder\n",
    "encoder = LabelEncoder()\n",
    "Y = encoder.fit_transform(data['Annotation'].values)\n",
    "\n",
    "# Split the data into training and testing sets\n",
    "X_train, X_test, Y_train, Y_test = train_test_split(X, Y, test_size=0.2, random_state=42)"
   ]
  },
  {
   "cell_type": "code",
   "execution_count": 8,
   "id": "b1d60d7a",
   "metadata": {
    "execution": {
     "iopub.execute_input": "2023-10-12T15:16:30.460147Z",
     "iopub.status.busy": "2023-10-12T15:16:30.459859Z",
     "iopub.status.idle": "2023-10-12T15:16:30.466166Z",
     "shell.execute_reply": "2023-10-12T15:16:30.465110Z"
    },
    "papermill": {
     "duration": 0.012535,
     "end_time": "2023-10-12T15:16:30.468073",
     "exception": false,
     "start_time": "2023-10-12T15:16:30.455538",
     "status": "completed"
    },
    "tags": []
   },
   "outputs": [],
   "source": [
    "def create_model(max_features, maxlen, embedding_dims, dropout_rate):\n",
    "    inputs = Input(shape=(maxlen,))\n",
    "    embeddings = Embedding(max_features, embedding_dims)(inputs)\n",
    "    embeddings = Dropout(dropout_rate)(embeddings)\n",
    "\n",
    "    # Create the Bi-GRU layer\n",
    "    gru = Bidirectional(GRU(64, return_sequences=True, dropout=dropout_rate))(embeddings)\n",
    "    gru = GRU(64, dropout=dropout_rate)(gru)\n",
    "\n",
    "    # Create the CPASNet layer\n",
    "    cpas = Dense(64, activation='relu')(gru)\n",
    "    cpas = Dropout(dropout_rate)(cpas)\n",
    "    cpas = Dense(1, activation='sigmoid')(cpas)\n",
    "\n",
    "    # Create the final model\n",
    "    model = Model(inputs, cpas)\n",
    "    model.compile(loss='binary_crossentropy', optimizer='adam', metrics=['accuracy'])\n",
    "\n",
    "    return model"
   ]
  },
  {
   "cell_type": "code",
   "execution_count": 9,
   "id": "ddd802bd",
   "metadata": {
    "execution": {
     "iopub.execute_input": "2023-10-12T15:16:30.475830Z",
     "iopub.status.busy": "2023-10-12T15:16:30.475543Z",
     "iopub.status.idle": "2023-10-12T15:21:11.157713Z",
     "shell.execute_reply": "2023-10-12T15:21:11.156520Z"
    },
    "papermill": {
     "duration": 280.688283,
     "end_time": "2023-10-12T15:21:11.159706",
     "exception": false,
     "start_time": "2023-10-12T15:16:30.471423",
     "status": "completed"
    },
    "tags": []
   },
   "outputs": [
    {
     "name": "stdout",
     "output_type": "stream",
     "text": [
      "Epoch 1/3\n",
      "337/337 [==============================] - 184s 523ms/step - loss: 0.2474 - accuracy: 0.9037 - val_loss: 0.1720 - val_accuracy: 0.9299\n",
      "Epoch 2/3\n",
      "337/337 [==============================] - 164s 487ms/step - loss: 0.1369 - accuracy: 0.9456 - val_loss: 0.1870 - val_accuracy: 0.9228\n",
      "Epoch 3/3\n",
      "337/337 [==============================] - 172s 512ms/step - loss: 0.0968 - accuracy: 0.9626 - val_loss: 0.2151 - val_accuracy: 0.9221\n"
     ]
    },
    {
     "data": {
      "text/plain": [
       "<keras.src.callbacks.History at 0x7fcf0d02ae10>"
      ]
     },
     "execution_count": 9,
     "metadata": {},
     "output_type": "execute_result"
    }
   ],
   "source": [
    "model = create_model(max_features=5000, maxlen=500, embedding_dims=100, dropout_rate=0.2)\n",
    "model.fit(X_train, Y_train, validation_data=(X_test, Y_test), epochs=3, batch_size=32)"
   ]
  },
  {
   "cell_type": "code",
   "execution_count": 10,
   "id": "039dd74e",
   "metadata": {
    "execution": {
     "iopub.execute_input": "2023-10-12T15:21:11.491667Z",
     "iopub.status.busy": "2023-10-12T15:21:11.491290Z",
     "iopub.status.idle": "2023-10-12T15:21:14.894729Z",
     "shell.execute_reply": "2023-10-12T15:21:14.893594Z"
    },
    "papermill": {
     "duration": 3.566867,
     "end_time": "2023-10-12T15:21:14.897235",
     "exception": false,
     "start_time": "2023-10-12T15:21:11.330368",
     "status": "completed"
    },
    "tags": []
   },
   "outputs": [
    {
     "name": "stdout",
     "output_type": "stream",
     "text": [
      "85/85 [==============================] - 13s 136ms/step\n",
      "[[2183  112]\n",
      " [  98  302]]\n",
      "              precision    recall  f1-score   support\n",
      "\n",
      "           0       0.96      0.95      0.95      2295\n",
      "           1       0.73      0.76      0.74       400\n",
      "\n",
      "    accuracy                           0.92      2695\n",
      "   macro avg       0.84      0.85      0.85      2695\n",
      "weighted avg       0.92      0.92      0.92      2695\n",
      "\n"
     ]
    }
   ],
   "source": [
    "Y_pred = model.predict(X_test)\n",
    "Y_pred = (Y_pred > 0.5)\n",
    "\n",
    "print(confusion_matrix(Y_test, Y_pred))\n",
    "print(classification_report(Y_test, Y_pred))"
   ]
  },
  {
   "cell_type": "code",
   "execution_count": 11,
   "id": "9cdcdfc2",
   "metadata": {
    "papermill": {
     "duration": 0.161224,
     "end_time": "2023-10-12T15:21:15.237769",
     "exception": false,
     "start_time": "2023-10-12T15:21:15.076545",
     "status": "completed"
    },
    "tags": []
   },
   "outputs": [],
   "source": [
    "# Save model architecture to JSON file\n",
    "model_json = model.to_json()\n",
    "with open(\"model_architecture.json\", \"w\") as json_file:\n",
    "    json_file.write(model_json)\n",
    "\n",
    "# Save model weights to HDF5 file\n",
    "model.save_weights(\"model_weights.h5\")\n"
   ]
  },
  {
   "cell_type": "code",
   "execution_count": null,
   "id": "9579766d",
   "metadata": {},
   "outputs": [],
   "source": []
  }
 ],
 "metadata": {
  "kernelspec": {
   "display_name": "Python 3 (ipykernel)",
   "language": "python",
   "name": "python3"
  },
  "language_info": {
   "codemirror_mode": {
    "name": "ipython",
    "version": 3
   },
   "file_extension": ".py",
   "mimetype": "text/x-python",
   "name": "python",
   "nbconvert_exporter": "python",
   "pygments_lexer": "ipython3",
   "version": "3.11.5"
  },
  "papermill": {
   "default_parameters": {},
   "duration": 302.631063,
   "end_time": "2023-10-12T15:21:19.040995",
   "environment_variables": {},
   "exception": null,
   "input_path": "__notebook__.ipynb",
   "output_path": "__notebook__.ipynb",
   "parameters": {},
   "start_time": "2023-10-12T15:16:16.409932",
   "version": "2.4.0"
  }
 },
 "nbformat": 4,
 "nbformat_minor": 5
}
